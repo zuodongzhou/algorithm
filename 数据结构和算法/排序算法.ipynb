{
 "cells": [
  {
   "cell_type": "markdown",
   "metadata": {},
   "source": [
    "# 快速排序"
   ]
  },
  {
   "cell_type": "code",
   "execution_count": 2,
   "metadata": {},
   "outputs": [
    {
     "name": "stdout",
     "output_type": "stream",
     "text": [
      "[5, 6, 7, 12, 22, 34, 34, 45, 54, 100]\n"
     ]
    }
   ],
   "source": [
    "def quick_sort(data):\n",
    "    if len(data) > 2:\n",
    "        mid = data[len(data)//2]  # 选择中间的值作为基准（也可以选择开头，结尾或者随机）\n",
    "        data.remove(mid)\n",
    "        left, right = [], []\n",
    "        for num in data:\n",
    "            if num >= mid:\n",
    "                right.append(num)\n",
    "            else:\n",
    "                left.append(num)\n",
    "        return quick_sort(left) + [mid] + quick_sort(right) #递归\n",
    "    else:\n",
    "        return data\n",
    "    \n",
    "seq = [34,54,12,5,7,22,100,45,34,6]\n",
    "print(quick_sort(seq))"
   ]
  },
  {
   "cell_type": "markdown",
   "metadata": {},
   "source": [
    "# 冒泡排序"
   ]
  },
  {
   "cell_type": "code",
   "execution_count": 4,
   "metadata": {},
   "outputs": [
    {
     "name": "stdout",
     "output_type": "stream",
     "text": [
      "[0, 3, 3, 5, 12, 29, 34, 41, 442]\n"
     ]
    }
   ],
   "source": [
    "def bubble_sort(data):\n",
    "    for i in range(len(data)-1): # 循环n-1趟\n",
    "        for j in range(len(data)-1-i):  # 每一趟循环n-i次（i为趟数）\n",
    "            if data[j]>=data[j+1]:\n",
    "                t = data[j]    # 中间变量起交换作用\n",
    "                data[j] = data[j+1]\n",
    "                data[j+1] = t\n",
    "    return data\n",
    "\n",
    "seq1 = [34, 12, 3, 41, 442, 0, 5, 3, 29]\n",
    "print(bubble_sort(seq1))\n",
    "        "
   ]
  },
  {
   "cell_type": "code",
   "execution_count": 9,
   "metadata": {},
   "outputs": [
    {
     "name": "stdout",
     "output_type": "stream",
     "text": [
      "4 3\n"
     ]
    }
   ],
   "source": [
    "a, b = 3,4\n",
    "a, b = b, a\n",
    "print(a,b)"
   ]
  },
  {
   "cell_type": "code",
   "execution_count": null,
   "metadata": {},
   "outputs": [],
   "source": []
  },
  {
   "cell_type": "code",
   "execution_count": null,
   "metadata": {},
   "outputs": [],
   "source": []
  }
 ],
 "metadata": {
  "kernelspec": {
   "display_name": "Python 3",
   "language": "python",
   "name": "python3"
  },
  "language_info": {
   "codemirror_mode": {
    "name": "ipython",
    "version": 3
   },
   "file_extension": ".py",
   "mimetype": "text/x-python",
   "name": "python",
   "nbconvert_exporter": "python",
   "pygments_lexer": "ipython3",
   "version": "3.7.3"
  }
 },
 "nbformat": 4,
 "nbformat_minor": 2
}
