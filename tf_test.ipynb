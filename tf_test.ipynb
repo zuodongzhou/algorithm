{
 "cells": [
  {
   "cell_type": "markdown",
   "metadata": {},
   "source": [
    "transorflow mask操作"
   ]
  },
  {
   "cell_type": "code",
   "execution_count": 1,
   "metadata": {},
   "outputs": [],
   "source": [
    "import tensorflow as tf"
   ]
  },
  {
   "cell_type": "code",
   "execution_count": 2,
   "metadata": {},
   "outputs": [],
   "source": [
    "# 定义输入\n",
    "p = tf.constant([[2,3,4,0],[5,1,0,0],[4,1,0,0]])\n",
    "h = tf.constant([[2,3,0,0],[6,3,5,0],[1,1,3,0]])\n"
   ]
  },
  {
   "cell_type": "code",
   "execution_count": 3,
   "metadata": {},
   "outputs": [],
   "source": [
    "def length(sequence):\n",
    "    \"\"\"\n",
    "    Get true length of sequences (without padding), and mask for true-length in max-length.\n",
    "\n",
    "    Input of shape: (batch_size, max_seq_length, hidden_dim)\n",
    "    Output shapes, \n",
    "    length: (batch_size)\n",
    "    mask: (batch_size, max_seq_length, 1)\n",
    "    \"\"\"\n",
    "    populated = tf.sign(tf.abs(sequence))\n",
    "    length = tf.cast(tf.reduce_sum(populated, axis=1), tf.int32)\n",
    "    mask = tf.cast(tf.expand_dims(populated, 1), tf.float32)\n",
    "\n",
    "    # mask使为0的地方为0，其他地方为1\n",
    "    return length, mask\n"
   ]
  },
  {
   "cell_type": "code",
   "execution_count": 4,
   "metadata": {},
   "outputs": [
    {
     "name": "stdout",
     "output_type": "stream",
     "text": [
      "[2 3 3]\n",
      "[[[1. 1. 0. 0.]]\n",
      "\n",
      " [[1. 1. 1. 0.]]\n",
      "\n",
      " [[1. 1. 1. 0.]]]\n"
     ]
    }
   ],
   "source": [
    "l, m = length(h)\n",
    "with tf.Session() as sess:\n",
    "    print(sess.run(l))\n",
    "    print(sess.run(m))"
   ]
  },
  {
   "cell_type": "code",
   "execution_count": 5,
   "metadata": {},
   "outputs": [],
   "source": [
    "def masked_softmax(scores, mask):\n",
    "    \"\"\"\n",
    "    Used to calculcate a softmax score with true sequence length (without padding), rather than max-sequence length.\n",
    "\n",
    "    Input shape: (batch_size, max_seq_length, hidden_dim). \n",
    "    mask parameter: Tensor of shape (batch_size, max_seq_length). Such a mask is given by the length() function.\n",
    "    \"\"\"\n",
    "    numerator = tf.exp(tf.subtract(scores, tf.reduce_max(scores, 1, keep_dims=True))) * mask\n",
    "    denominator = tf.reduce_sum(numerator, 2, keep_dims=True)\n",
    "    weights = tf.div(numerator, denominator)\n",
    "    return weights"
   ]
  },
  {
   "cell_type": "code",
   "execution_count": 6,
   "metadata": {},
   "outputs": [],
   "source": [
    "p_in = tf.constant([[[2,3],[5,1],[4,1],[0,0]],[[3,4],[5,1],[0,0],[0,0]],[[2,4],[2,1],[0,0],[0,0]]], dtype=tf.float32)\n",
    "\n",
    "q_in = tf.constant([[[2,3],[5,1],[0,0],[0,0]],[[3,4],[5,1],[3,1],[0,0]],[[2,4],[2,1],[2,1],[0,0]]], dtype=tf.float32)"
   ]
  },
  {
   "cell_type": "code",
   "execution_count": 7,
   "metadata": {},
   "outputs": [
    {
     "name": "stdout",
     "output_type": "stream",
     "text": [
      "WARNING:tensorflow:From <ipython-input-5-31cf4775c6d5>:8: calling reduce_max_v1 (from tensorflow.python.ops.math_ops) with keep_dims is deprecated and will be removed in a future version.\n",
      "Instructions for updating:\n",
      "keep_dims is deprecated, use keepdims instead\n",
      "WARNING:tensorflow:From <ipython-input-5-31cf4775c6d5>:9: calling reduce_sum_v1 (from tensorflow.python.ops.math_ops) with keep_dims is deprecated and will be removed in a future version.\n",
      "Instructions for updating:\n",
      "keep_dims is deprecated, use keepdims instead\n",
      "WARNING:tensorflow:From <ipython-input-5-31cf4775c6d5>:10: div (from tensorflow.python.ops.math_ops) is deprecated and will be removed in a future version.\n",
      "Instructions for updating:\n",
      "Deprecated in favor of operator or tf.math.divide.\n",
      "[[[13. 13.  0.  0.]\n",
      "  [13. 26.  0.  0.]\n",
      "  [11. 21.  0.  0.]\n",
      "  [ 0.  0.  0.  0.]]\n",
      "\n",
      " [[25. 19. 13.  0.]\n",
      "  [19. 26. 16.  0.]\n",
      "  [ 0.  0.  0.  0.]\n",
      "  [ 0.  0.  0.  0.]]\n",
      "\n",
      " [[20.  8.  8.  0.]\n",
      "  [ 8.  5.  5.  0.]\n",
      "  [ 0.  0.  0.  0.]\n",
      "  [ 0.  0.  0.  0.]]]\n",
      "[[[9.9999774e-01 2.2603242e-06 0.0000000e+00 0.0000000e+00]\n",
      "  [5.0000000e-01 5.0000000e-01 0.0000000e+00 0.0000000e+00]\n",
      "  [9.5257413e-01 4.7425874e-02 0.0000000e+00 0.0000000e+00]\n",
      "  [9.9999779e-01 2.2603244e-06 0.0000000e+00 0.0000000e+00]]\n",
      "\n",
      " [[9.5174748e-01 8.6788135e-04 4.7384717e-02 0.0000000e+00]\n",
      "  [1.2378421e-03 4.9938112e-01 4.9938112e-01 0.0000000e+00]\n",
      "  [1.2338896e-04 4.5392269e-05 9.9983120e-01 0.0000000e+00]\n",
      "  [1.2338896e-04 4.5392269e-05 9.9983120e-01 0.0000000e+00]]\n",
      "\n",
      " [[3.3333334e-01 3.3333334e-01 3.3333334e-01 0.0000000e+00]\n",
      "  [6.1701103e-05 4.9996918e-01 4.9996918e-01 0.0000000e+00]\n",
      "  [3.0720967e-06 4.9999845e-01 4.9999845e-01 0.0000000e+00]\n",
      "  [3.0720967e-06 4.9999845e-01 4.9999845e-01 0.0000000e+00]]]\n",
      "[[[2.0000067 2.9999955]\n",
      "  [3.5       2.       ]\n",
      "  [2.1422777 2.9051483]\n",
      "  [2.000007  2.9999955]]\n",
      "\n",
      " [[3.0017362 3.8552425]\n",
      "  [3.9987626 1.0037136]\n",
      "  [3.0000908 1.0003701]\n",
      "  [3.0000908 1.0003701]]\n",
      "\n",
      " [[2.        2.       ]\n",
      "  [2.        1.0001853]\n",
      "  [2.        1.0000092]\n",
      "  [2.        1.0000092]]]\n"
     ]
    }
   ],
   "source": [
    "scores = tf.matmul(p_in, tf.transpose(q_in, [0,2,1]))\n",
    "mask_scores = masked_softmax(scores, m)\n",
    "p_hat = tf.matmul(mask_scores, q_in)\n",
    "with tf.Session() as sess:\n",
    "    print(sess.run(scores))\n",
    "    print(sess.run(mask_scores))\n",
    "    print(sess.run(p_hat))"
   ]
  },
  {
   "cell_type": "code",
   "execution_count": 8,
   "metadata": {},
   "outputs": [
    {
     "name": "stdout",
     "output_type": "stream",
     "text": [
      "0.0\n"
     ]
    }
   ],
   "source": [
    "a = tf.constant(1e-13)\n",
    "b = tf.constant(0.0)\n",
    "c = tf.div(b,a)\n",
    "\n",
    "with tf.Session() as sess:\n",
    "    print(sess.run(c))"
   ]
  },
  {
   "cell_type": "code",
   "execution_count": 14,
   "metadata": {},
   "outputs": [
    {
     "name": "stdout",
     "output_type": "stream",
     "text": [
      "(2, 2, 3)\n",
      "(2, 2, 1)\n"
     ]
    }
   ],
   "source": [
    "x = tf.constant([[[3,4,5],[4,5,6]],[[3,5,7],[8,9,5]]], dtype=tf.float32)\n",
    "print(x.shape)\n",
    "y = tf.constant([[[12], [15]],[[15], [22]]], dtype=tf.float32)\n",
    "print(y.shape)"
   ]
  },
  {
   "cell_type": "code",
   "execution_count": 15,
   "metadata": {},
   "outputs": [
    {
     "name": "stdout",
     "output_type": "stream",
     "text": [
      "[[[0.25       0.33333334 0.41666666]\n",
      "  [0.26666668 0.33333334 0.4       ]]\n",
      "\n",
      " [[0.2        0.33333334 0.46666667]\n",
      "  [0.36363637 0.4090909  0.22727273]]]\n"
     ]
    }
   ],
   "source": [
    "z = tf.div(x,y)\n",
    "with tf.Session() as sess:\n",
    "    print(sess.run(z))"
   ]
  },
  {
   "cell_type": "code",
   "execution_count": null,
   "metadata": {},
   "outputs": [],
   "source": []
  }
 ],
 "metadata": {
  "kernelspec": {
   "display_name": "Python 3",
   "language": "python",
   "name": "python3"
  },
  "language_info": {
   "codemirror_mode": {
    "name": "ipython",
    "version": 3
   },
   "file_extension": ".py",
   "mimetype": "text/x-python",
   "name": "python",
   "nbconvert_exporter": "python",
   "pygments_lexer": "ipython3",
   "version": "3.7.3"
  }
 },
 "nbformat": 4,
 "nbformat_minor": 2
}
